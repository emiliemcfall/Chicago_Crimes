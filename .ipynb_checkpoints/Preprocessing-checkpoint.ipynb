{
 "cells": [
  {
   "cell_type": "code",
   "execution_count": 2,
   "metadata": {},
   "outputs": [],
   "source": [
    "import numpy as np\n",
    "import pandas as pd"
   ]
  },
  {
   "cell_type": "code",
   "execution_count": 12,
   "metadata": {},
   "outputs": [],
   "source": [
    "data = pd.read_csv(\"bars.csv\") "
   ]
  },
  {
   "cell_type": "code",
   "execution_count": 13,
   "metadata": {},
   "outputs": [],
   "source": [
    "data['total'] = pd.to_numeric(data['total'])\n",
    "data['value'] = pd.to_numeric(data['value'])"
   ]
  },
  {
   "cell_type": "code",
   "execution_count": 14,
   "metadata": {},
   "outputs": [
    {
     "data": {
      "text/html": [
       "<div>\n",
       "<style scoped>\n",
       "    .dataframe tbody tr th:only-of-type {\n",
       "        vertical-align: middle;\n",
       "    }\n",
       "\n",
       "    .dataframe tbody tr th {\n",
       "        vertical-align: top;\n",
       "    }\n",
       "\n",
       "    .dataframe thead th {\n",
       "        text-align: right;\n",
       "    }\n",
       "</style>\n",
       "<table border=\"1\" class=\"dataframe\">\n",
       "  <thead>\n",
       "    <tr style=\"text-align: right;\">\n",
       "      <th></th>\n",
       "      <th>Unnamed: 0</th>\n",
       "      <th>crime</th>\n",
       "      <th>subcrime</th>\n",
       "      <th>year</th>\n",
       "      <th>arrest</th>\n",
       "      <th>value</th>\n",
       "      <th>total</th>\n",
       "    </tr>\n",
       "  </thead>\n",
       "  <tbody>\n",
       "    <tr>\n",
       "      <th>0</th>\n",
       "      <td>0</td>\n",
       "      <td>ARSON</td>\n",
       "      <td>AGGRAVATED</td>\n",
       "      <td>2008</td>\n",
       "      <td>False</td>\n",
       "      <td>160</td>\n",
       "      <td>194</td>\n",
       "    </tr>\n",
       "    <tr>\n",
       "      <th>1</th>\n",
       "      <td>1</td>\n",
       "      <td>ARSON</td>\n",
       "      <td>AGGRAVATED</td>\n",
       "      <td>2008</td>\n",
       "      <td>True</td>\n",
       "      <td>34</td>\n",
       "      <td>194</td>\n",
       "    </tr>\n",
       "    <tr>\n",
       "      <th>2</th>\n",
       "      <td>2</td>\n",
       "      <td>ARSON</td>\n",
       "      <td>AGGRAVATED</td>\n",
       "      <td>2009</td>\n",
       "      <td>False</td>\n",
       "      <td>136</td>\n",
       "      <td>160</td>\n",
       "    </tr>\n",
       "    <tr>\n",
       "      <th>3</th>\n",
       "      <td>3</td>\n",
       "      <td>ARSON</td>\n",
       "      <td>AGGRAVATED</td>\n",
       "      <td>2009</td>\n",
       "      <td>True</td>\n",
       "      <td>24</td>\n",
       "      <td>160</td>\n",
       "    </tr>\n",
       "    <tr>\n",
       "      <th>4</th>\n",
       "      <td>4</td>\n",
       "      <td>ARSON</td>\n",
       "      <td>AGGRAVATED</td>\n",
       "      <td>2010</td>\n",
       "      <td>False</td>\n",
       "      <td>122</td>\n",
       "      <td>155</td>\n",
       "    </tr>\n",
       "  </tbody>\n",
       "</table>\n",
       "</div>"
      ],
      "text/plain": [
       "   Unnamed: 0  crime    subcrime  year  arrest  value  total\n",
       "0           0  ARSON  AGGRAVATED  2008   False    160    194\n",
       "1           1  ARSON  AGGRAVATED  2008    True     34    194\n",
       "2           2  ARSON  AGGRAVATED  2009   False    136    160\n",
       "3           3  ARSON  AGGRAVATED  2009    True     24    160\n",
       "4           4  ARSON  AGGRAVATED  2010   False    122    155"
      ]
     },
     "execution_count": 14,
     "metadata": {},
     "output_type": "execute_result"
    }
   ],
   "source": [
    "data.head()"
   ]
  },
  {
   "cell_type": "code",
   "execution_count": 15,
   "metadata": {},
   "outputs": [],
   "source": [
    "data['difference'] = data['total'] - data['value']"
   ]
  },
  {
   "cell_type": "code",
   "execution_count": null,
   "metadata": {},
   "outputs": [],
   "source": [
    "#data.loc[len(data)] = ['a','b','c','d','d','a','a']"
   ]
  },
  {
   "cell_type": "code",
   "execution_count": null,
   "metadata": {},
   "outputs": [],
   "source": [
    "#tmp = data[data['no_arrest_num'] == 0]"
   ]
  },
  {
   "cell_type": "code",
   "execution_count": 18,
   "metadata": {},
   "outputs": [],
   "source": [
    "data.drop(columns='Unnamed: 0')"
   ]
  },
  {
   "cell_type": "code",
   "execution_count": 19,
   "metadata": {},
   "outputs": [
    {
     "data": {
      "text/html": [
       "<div>\n",
       "<style scoped>\n",
       "    .dataframe tbody tr th:only-of-type {\n",
       "        vertical-align: middle;\n",
       "    }\n",
       "\n",
       "    .dataframe tbody tr th {\n",
       "        vertical-align: top;\n",
       "    }\n",
       "\n",
       "    .dataframe thead th {\n",
       "        text-align: right;\n",
       "    }\n",
       "</style>\n",
       "<table border=\"1\" class=\"dataframe\">\n",
       "  <thead>\n",
       "    <tr style=\"text-align: right;\">\n",
       "      <th></th>\n",
       "      <th>crime</th>\n",
       "      <th>subcrime</th>\n",
       "      <th>year</th>\n",
       "      <th>arrest</th>\n",
       "      <th>value</th>\n",
       "      <th>total</th>\n",
       "      <th>difference</th>\n",
       "    </tr>\n",
       "  </thead>\n",
       "  <tbody>\n",
       "    <tr>\n",
       "      <th>0</th>\n",
       "      <td>ARSON</td>\n",
       "      <td>AGGRAVATED</td>\n",
       "      <td>2008</td>\n",
       "      <td>False</td>\n",
       "      <td>160</td>\n",
       "      <td>194</td>\n",
       "      <td>34</td>\n",
       "    </tr>\n",
       "    <tr>\n",
       "      <th>1</th>\n",
       "      <td>ARSON</td>\n",
       "      <td>AGGRAVATED</td>\n",
       "      <td>2008</td>\n",
       "      <td>True</td>\n",
       "      <td>34</td>\n",
       "      <td>194</td>\n",
       "      <td>160</td>\n",
       "    </tr>\n",
       "    <tr>\n",
       "      <th>2</th>\n",
       "      <td>ARSON</td>\n",
       "      <td>AGGRAVATED</td>\n",
       "      <td>2009</td>\n",
       "      <td>False</td>\n",
       "      <td>136</td>\n",
       "      <td>160</td>\n",
       "      <td>24</td>\n",
       "    </tr>\n",
       "    <tr>\n",
       "      <th>3</th>\n",
       "      <td>ARSON</td>\n",
       "      <td>AGGRAVATED</td>\n",
       "      <td>2009</td>\n",
       "      <td>True</td>\n",
       "      <td>24</td>\n",
       "      <td>160</td>\n",
       "      <td>136</td>\n",
       "    </tr>\n",
       "    <tr>\n",
       "      <th>4</th>\n",
       "      <td>ARSON</td>\n",
       "      <td>AGGRAVATED</td>\n",
       "      <td>2010</td>\n",
       "      <td>False</td>\n",
       "      <td>122</td>\n",
       "      <td>155</td>\n",
       "      <td>33</td>\n",
       "    </tr>\n",
       "  </tbody>\n",
       "</table>\n",
       "</div>"
      ],
      "text/plain": [
       "   crime    subcrime  year  arrest  value  total  difference\n",
       "0  ARSON  AGGRAVATED  2008   False    160    194          34\n",
       "1  ARSON  AGGRAVATED  2008    True     34    194         160\n",
       "2  ARSON  AGGRAVATED  2009   False    136    160          24\n",
       "3  ARSON  AGGRAVATED  2009    True     24    160         136\n",
       "4  ARSON  AGGRAVATED  2010   False    122    155          33"
      ]
     },
     "execution_count": 19,
     "metadata": {},
     "output_type": "execute_result"
    }
   ],
   "source": [
    "data.head()"
   ]
  },
  {
   "cell_type": "code",
   "execution_count": 20,
   "metadata": {},
   "outputs": [],
   "source": [
    "count = 0\n",
    "n = len(data)\n",
    "for row in range(len(data)):\n",
    "    if data['difference'][row] == 0:\n",
    "        data.loc[n + count] = [data.iloc[row][0], data.iloc[row][1], data.iloc[row][2], 1 - data.iloc[row][3], \n",
    "                              0, data.iloc[row][5], data.iloc[row][6]]\n",
    "        #print(data.iloc[n + count])\n",
    "        count += 1"
   ]
  },
  {
   "cell_type": "code",
   "execution_count": 21,
   "metadata": {},
   "outputs": [],
   "source": [
    "df = data"
   ]
  },
  {
   "cell_type": "code",
   "execution_count": 22,
   "metadata": {},
   "outputs": [],
   "source": [
    "df['arrest'] = df['arrest'].map({0: False, 1: True})"
   ]
  },
  {
   "cell_type": "code",
   "execution_count": 23,
   "metadata": {},
   "outputs": [
    {
     "data": {
      "text/html": [
       "<div>\n",
       "<style scoped>\n",
       "    .dataframe tbody tr th:only-of-type {\n",
       "        vertical-align: middle;\n",
       "    }\n",
       "\n",
       "    .dataframe tbody tr th {\n",
       "        vertical-align: top;\n",
       "    }\n",
       "\n",
       "    .dataframe thead th {\n",
       "        text-align: right;\n",
       "    }\n",
       "</style>\n",
       "<table border=\"1\" class=\"dataframe\">\n",
       "  <thead>\n",
       "    <tr style=\"text-align: right;\">\n",
       "      <th></th>\n",
       "      <th>crime</th>\n",
       "      <th>subcrime</th>\n",
       "      <th>year</th>\n",
       "      <th>arrest</th>\n",
       "      <th>value</th>\n",
       "      <th>total</th>\n",
       "      <th>difference</th>\n",
       "    </tr>\n",
       "  </thead>\n",
       "  <tbody>\n",
       "    <tr>\n",
       "      <th>0</th>\n",
       "      <td>ARSON</td>\n",
       "      <td>AGGRAVATED</td>\n",
       "      <td>2008</td>\n",
       "      <td>False</td>\n",
       "      <td>160</td>\n",
       "      <td>194</td>\n",
       "      <td>34</td>\n",
       "    </tr>\n",
       "    <tr>\n",
       "      <th>1</th>\n",
       "      <td>ARSON</td>\n",
       "      <td>AGGRAVATED</td>\n",
       "      <td>2008</td>\n",
       "      <td>True</td>\n",
       "      <td>34</td>\n",
       "      <td>194</td>\n",
       "      <td>160</td>\n",
       "    </tr>\n",
       "    <tr>\n",
       "      <th>2</th>\n",
       "      <td>ARSON</td>\n",
       "      <td>AGGRAVATED</td>\n",
       "      <td>2009</td>\n",
       "      <td>False</td>\n",
       "      <td>136</td>\n",
       "      <td>160</td>\n",
       "      <td>24</td>\n",
       "    </tr>\n",
       "    <tr>\n",
       "      <th>3</th>\n",
       "      <td>ARSON</td>\n",
       "      <td>AGGRAVATED</td>\n",
       "      <td>2009</td>\n",
       "      <td>True</td>\n",
       "      <td>24</td>\n",
       "      <td>160</td>\n",
       "      <td>136</td>\n",
       "    </tr>\n",
       "    <tr>\n",
       "      <th>4</th>\n",
       "      <td>ARSON</td>\n",
       "      <td>AGGRAVATED</td>\n",
       "      <td>2010</td>\n",
       "      <td>False</td>\n",
       "      <td>122</td>\n",
       "      <td>155</td>\n",
       "      <td>33</td>\n",
       "    </tr>\n",
       "  </tbody>\n",
       "</table>\n",
       "</div>"
      ],
      "text/plain": [
       "   crime    subcrime  year  arrest  value  total  difference\n",
       "0  ARSON  AGGRAVATED  2008   False    160    194          34\n",
       "1  ARSON  AGGRAVATED  2008    True     34    194         160\n",
       "2  ARSON  AGGRAVATED  2009   False    136    160          24\n",
       "3  ARSON  AGGRAVATED  2009    True     24    160         136\n",
       "4  ARSON  AGGRAVATED  2010   False    122    155          33"
      ]
     },
     "execution_count": 23,
     "metadata": {},
     "output_type": "execute_result"
    }
   ],
   "source": [
    "df.head()"
   ]
  },
  {
   "cell_type": "code",
   "execution_count": 24,
   "metadata": {},
   "outputs": [],
   "source": [
    "dat = df.groupby(by=['crime','subcrime','year','arrest']).aggregate('sum')"
   ]
  },
  {
   "cell_type": "code",
   "execution_count": 25,
   "metadata": {},
   "outputs": [
    {
     "data": {
      "text/html": [
       "<div>\n",
       "<style scoped>\n",
       "    .dataframe tbody tr th:only-of-type {\n",
       "        vertical-align: middle;\n",
       "    }\n",
       "\n",
       "    .dataframe tbody tr th {\n",
       "        vertical-align: top;\n",
       "    }\n",
       "\n",
       "    .dataframe thead th {\n",
       "        text-align: right;\n",
       "    }\n",
       "</style>\n",
       "<table border=\"1\" class=\"dataframe\">\n",
       "  <thead>\n",
       "    <tr style=\"text-align: right;\">\n",
       "      <th></th>\n",
       "      <th></th>\n",
       "      <th></th>\n",
       "      <th></th>\n",
       "      <th>value</th>\n",
       "      <th>total</th>\n",
       "      <th>difference</th>\n",
       "    </tr>\n",
       "    <tr>\n",
       "      <th>crime</th>\n",
       "      <th>subcrime</th>\n",
       "      <th>year</th>\n",
       "      <th>arrest</th>\n",
       "      <th></th>\n",
       "      <th></th>\n",
       "      <th></th>\n",
       "    </tr>\n",
       "  </thead>\n",
       "  <tbody>\n",
       "    <tr>\n",
       "      <th rowspan=\"5\" valign=\"top\">ARSON</th>\n",
       "      <th rowspan=\"5\" valign=\"top\">AGGRAVATED</th>\n",
       "      <th rowspan=\"2\" valign=\"top\">2008</th>\n",
       "      <th>False</th>\n",
       "      <td>160</td>\n",
       "      <td>194</td>\n",
       "      <td>34</td>\n",
       "    </tr>\n",
       "    <tr>\n",
       "      <th>True</th>\n",
       "      <td>34</td>\n",
       "      <td>194</td>\n",
       "      <td>160</td>\n",
       "    </tr>\n",
       "    <tr>\n",
       "      <th rowspan=\"2\" valign=\"top\">2009</th>\n",
       "      <th>False</th>\n",
       "      <td>136</td>\n",
       "      <td>160</td>\n",
       "      <td>24</td>\n",
       "    </tr>\n",
       "    <tr>\n",
       "      <th>True</th>\n",
       "      <td>24</td>\n",
       "      <td>160</td>\n",
       "      <td>136</td>\n",
       "    </tr>\n",
       "    <tr>\n",
       "      <th>2010</th>\n",
       "      <th>False</th>\n",
       "      <td>122</td>\n",
       "      <td>155</td>\n",
       "      <td>33</td>\n",
       "    </tr>\n",
       "  </tbody>\n",
       "</table>\n",
       "</div>"
      ],
      "text/plain": [
       "                              value  total  difference\n",
       "crime subcrime   year arrest                          \n",
       "ARSON AGGRAVATED 2008 False     160    194          34\n",
       "                      True       34    194         160\n",
       "                 2009 False     136    160          24\n",
       "                      True       24    160         136\n",
       "                 2010 False     122    155          33"
      ]
     },
     "execution_count": 25,
     "metadata": {},
     "output_type": "execute_result"
    }
   ],
   "source": [
    "dat.head()"
   ]
  },
  {
   "cell_type": "code",
   "execution_count": 26,
   "metadata": {},
   "outputs": [
    {
     "data": {
      "text/html": [
       "<div>\n",
       "<style scoped>\n",
       "    .dataframe tbody tr th:only-of-type {\n",
       "        vertical-align: middle;\n",
       "    }\n",
       "\n",
       "    .dataframe tbody tr th {\n",
       "        vertical-align: top;\n",
       "    }\n",
       "\n",
       "    .dataframe thead th {\n",
       "        text-align: right;\n",
       "    }\n",
       "</style>\n",
       "<table border=\"1\" class=\"dataframe\">\n",
       "  <thead>\n",
       "    <tr style=\"text-align: right;\">\n",
       "      <th></th>\n",
       "      <th>crime</th>\n",
       "      <th>subcrime</th>\n",
       "      <th>year</th>\n",
       "      <th>arrest</th>\n",
       "      <th>value</th>\n",
       "      <th>total</th>\n",
       "      <th>difference</th>\n",
       "    </tr>\n",
       "  </thead>\n",
       "  <tbody>\n",
       "    <tr>\n",
       "      <th>0</th>\n",
       "      <td>ARSON</td>\n",
       "      <td>AGGRAVATED</td>\n",
       "      <td>2008</td>\n",
       "      <td>False</td>\n",
       "      <td>160</td>\n",
       "      <td>194</td>\n",
       "      <td>34</td>\n",
       "    </tr>\n",
       "    <tr>\n",
       "      <th>1</th>\n",
       "      <td>ARSON</td>\n",
       "      <td>AGGRAVATED</td>\n",
       "      <td>2008</td>\n",
       "      <td>True</td>\n",
       "      <td>34</td>\n",
       "      <td>194</td>\n",
       "      <td>160</td>\n",
       "    </tr>\n",
       "    <tr>\n",
       "      <th>2</th>\n",
       "      <td>ARSON</td>\n",
       "      <td>AGGRAVATED</td>\n",
       "      <td>2009</td>\n",
       "      <td>False</td>\n",
       "      <td>136</td>\n",
       "      <td>160</td>\n",
       "      <td>24</td>\n",
       "    </tr>\n",
       "    <tr>\n",
       "      <th>3</th>\n",
       "      <td>ARSON</td>\n",
       "      <td>AGGRAVATED</td>\n",
       "      <td>2009</td>\n",
       "      <td>True</td>\n",
       "      <td>24</td>\n",
       "      <td>160</td>\n",
       "      <td>136</td>\n",
       "    </tr>\n",
       "    <tr>\n",
       "      <th>4</th>\n",
       "      <td>ARSON</td>\n",
       "      <td>AGGRAVATED</td>\n",
       "      <td>2010</td>\n",
       "      <td>False</td>\n",
       "      <td>122</td>\n",
       "      <td>155</td>\n",
       "      <td>33</td>\n",
       "    </tr>\n",
       "  </tbody>\n",
       "</table>\n",
       "</div>"
      ],
      "text/plain": [
       "   crime    subcrime  year  arrest  value  total  difference\n",
       "0  ARSON  AGGRAVATED  2008   False    160    194          34\n",
       "1  ARSON  AGGRAVATED  2008    True     34    194         160\n",
       "2  ARSON  AGGRAVATED  2009   False    136    160          24\n",
       "3  ARSON  AGGRAVATED  2009    True     24    160         136\n",
       "4  ARSON  AGGRAVATED  2010   False    122    155          33"
      ]
     },
     "execution_count": 26,
     "metadata": {},
     "output_type": "execute_result"
    }
   ],
   "source": [
    "dat.reset_index(level=[0,1,2,3]).head()"
   ]
  },
  {
   "cell_type": "code",
   "execution_count": 27,
   "metadata": {},
   "outputs": [
    {
     "data": {
      "text/plain": [
       "3562"
      ]
     },
     "metadata": {},
     "output_type": "display_data"
    },
    {
     "data": {
      "text/plain": [
       "3562"
      ]
     },
     "metadata": {},
     "output_type": "display_data"
    }
   ],
   "source": [
    "display(len(df[df['arrest'] == False]), len(df[df['arrest'] == True]))"
   ]
  },
  {
   "cell_type": "code",
   "execution_count": 28,
   "metadata": {},
   "outputs": [],
   "source": [
    "crimes = df[df['arrest'] == True]"
   ]
  },
  {
   "cell_type": "code",
   "execution_count": 29,
   "metadata": {},
   "outputs": [],
   "source": [
    "crimes = crimes[['crime','subcrime','year','value','total']].reset_index(drop=True)"
   ]
  },
  {
   "cell_type": "code",
   "execution_count": 30,
   "metadata": {},
   "outputs": [
    {
     "data": {
      "text/html": [
       "<div>\n",
       "<style scoped>\n",
       "    .dataframe tbody tr th:only-of-type {\n",
       "        vertical-align: middle;\n",
       "    }\n",
       "\n",
       "    .dataframe tbody tr th {\n",
       "        vertical-align: top;\n",
       "    }\n",
       "\n",
       "    .dataframe thead th {\n",
       "        text-align: right;\n",
       "    }\n",
       "</style>\n",
       "<table border=\"1\" class=\"dataframe\">\n",
       "  <thead>\n",
       "    <tr style=\"text-align: right;\">\n",
       "      <th></th>\n",
       "      <th>crime</th>\n",
       "      <th>subcrime</th>\n",
       "      <th>year</th>\n",
       "      <th>value</th>\n",
       "      <th>total</th>\n",
       "    </tr>\n",
       "  </thead>\n",
       "  <tbody>\n",
       "    <tr>\n",
       "      <th>0</th>\n",
       "      <td>ARSON</td>\n",
       "      <td>AGGRAVATED</td>\n",
       "      <td>2008</td>\n",
       "      <td>34</td>\n",
       "      <td>194</td>\n",
       "    </tr>\n",
       "    <tr>\n",
       "      <th>1</th>\n",
       "      <td>ARSON</td>\n",
       "      <td>AGGRAVATED</td>\n",
       "      <td>2009</td>\n",
       "      <td>24</td>\n",
       "      <td>160</td>\n",
       "    </tr>\n",
       "    <tr>\n",
       "      <th>2</th>\n",
       "      <td>ARSON</td>\n",
       "      <td>AGGRAVATED</td>\n",
       "      <td>2010</td>\n",
       "      <td>33</td>\n",
       "      <td>155</td>\n",
       "    </tr>\n",
       "    <tr>\n",
       "      <th>3</th>\n",
       "      <td>ARSON</td>\n",
       "      <td>AGGRAVATED</td>\n",
       "      <td>2011</td>\n",
       "      <td>14</td>\n",
       "      <td>74</td>\n",
       "    </tr>\n",
       "    <tr>\n",
       "      <th>4</th>\n",
       "      <td>ARSON</td>\n",
       "      <td>AGGRAVATED</td>\n",
       "      <td>2012</td>\n",
       "      <td>15</td>\n",
       "      <td>55</td>\n",
       "    </tr>\n",
       "  </tbody>\n",
       "</table>\n",
       "</div>"
      ],
      "text/plain": [
       "   crime    subcrime  year  value  total\n",
       "0  ARSON  AGGRAVATED  2008     34    194\n",
       "1  ARSON  AGGRAVATED  2009     24    160\n",
       "2  ARSON  AGGRAVATED  2010     33    155\n",
       "3  ARSON  AGGRAVATED  2011     14     74\n",
       "4  ARSON  AGGRAVATED  2012     15     55"
      ]
     },
     "execution_count": 30,
     "metadata": {},
     "output_type": "execute_result"
    }
   ],
   "source": [
    "crimes.head()"
   ]
  },
  {
   "cell_type": "code",
   "execution_count": 31,
   "metadata": {},
   "outputs": [],
   "source": [
    "crimes['no_arrest'] = crimes['total'] - crimes['value']"
   ]
  },
  {
   "cell_type": "code",
   "execution_count": 32,
   "metadata": {},
   "outputs": [],
   "source": [
    "crimes['arrest'] = crimes['value']"
   ]
  },
  {
   "cell_type": "code",
   "execution_count": 33,
   "metadata": {},
   "outputs": [],
   "source": [
    "crimes = crimes.drop(columns='value')"
   ]
  },
  {
   "cell_type": "code",
   "execution_count": 34,
   "metadata": {},
   "outputs": [
    {
     "data": {
      "text/html": [
       "<div>\n",
       "<style scoped>\n",
       "    .dataframe tbody tr th:only-of-type {\n",
       "        vertical-align: middle;\n",
       "    }\n",
       "\n",
       "    .dataframe tbody tr th {\n",
       "        vertical-align: top;\n",
       "    }\n",
       "\n",
       "    .dataframe thead th {\n",
       "        text-align: right;\n",
       "    }\n",
       "</style>\n",
       "<table border=\"1\" class=\"dataframe\">\n",
       "  <thead>\n",
       "    <tr style=\"text-align: right;\">\n",
       "      <th></th>\n",
       "      <th>crime</th>\n",
       "      <th>subcrime</th>\n",
       "      <th>year</th>\n",
       "      <th>total</th>\n",
       "      <th>no_arrest</th>\n",
       "      <th>arrest</th>\n",
       "    </tr>\n",
       "  </thead>\n",
       "  <tbody>\n",
       "    <tr>\n",
       "      <th>0</th>\n",
       "      <td>ARSON</td>\n",
       "      <td>AGGRAVATED</td>\n",
       "      <td>2008</td>\n",
       "      <td>194</td>\n",
       "      <td>160</td>\n",
       "      <td>34</td>\n",
       "    </tr>\n",
       "    <tr>\n",
       "      <th>1</th>\n",
       "      <td>ARSON</td>\n",
       "      <td>AGGRAVATED</td>\n",
       "      <td>2009</td>\n",
       "      <td>160</td>\n",
       "      <td>136</td>\n",
       "      <td>24</td>\n",
       "    </tr>\n",
       "    <tr>\n",
       "      <th>2</th>\n",
       "      <td>ARSON</td>\n",
       "      <td>AGGRAVATED</td>\n",
       "      <td>2010</td>\n",
       "      <td>155</td>\n",
       "      <td>122</td>\n",
       "      <td>33</td>\n",
       "    </tr>\n",
       "    <tr>\n",
       "      <th>3</th>\n",
       "      <td>ARSON</td>\n",
       "      <td>AGGRAVATED</td>\n",
       "      <td>2011</td>\n",
       "      <td>74</td>\n",
       "      <td>60</td>\n",
       "      <td>14</td>\n",
       "    </tr>\n",
       "    <tr>\n",
       "      <th>4</th>\n",
       "      <td>ARSON</td>\n",
       "      <td>AGGRAVATED</td>\n",
       "      <td>2012</td>\n",
       "      <td>55</td>\n",
       "      <td>40</td>\n",
       "      <td>15</td>\n",
       "    </tr>\n",
       "  </tbody>\n",
       "</table>\n",
       "</div>"
      ],
      "text/plain": [
       "   crime    subcrime  year  total  no_arrest  arrest\n",
       "0  ARSON  AGGRAVATED  2008    194        160      34\n",
       "1  ARSON  AGGRAVATED  2009    160        136      24\n",
       "2  ARSON  AGGRAVATED  2010    155        122      33\n",
       "3  ARSON  AGGRAVATED  2011     74         60      14\n",
       "4  ARSON  AGGRAVATED  2012     55         40      15"
      ]
     },
     "execution_count": 34,
     "metadata": {},
     "output_type": "execute_result"
    }
   ],
   "source": [
    "crimes.head()"
   ]
  },
  {
   "cell_type": "code",
   "execution_count": 35,
   "metadata": {},
   "outputs": [],
   "source": [
    "crimes.to_csv('subcrimes.csv', index=False)"
   ]
  },
  {
   "cell_type": "markdown",
   "metadata": {},
   "source": [
    "### Mapbox data"
   ]
  },
  {
   "cell_type": "code",
   "execution_count": 3,
   "metadata": {},
   "outputs": [],
   "source": [
    "thefts = pd.read_csv('topthefts2018.csv')"
   ]
  },
  {
   "cell_type": "code",
   "execution_count": 8,
   "metadata": {},
   "outputs": [],
   "source": [
    "thefts = thefts.drop(columns='Unnamed: 0')"
   ]
  },
  {
   "cell_type": "code",
   "execution_count": 11,
   "metadata": {},
   "outputs": [],
   "source": [
    "thefts.to_csv('topthefts2018.csv', index=False)"
   ]
  },
  {
   "cell_type": "code",
   "execution_count": 35,
   "metadata": {},
   "outputs": [],
   "source": [
    "thefts['date'] = pd.to_datetime(thefts['date'])"
   ]
  },
  {
   "cell_type": "code",
   "execution_count": 41,
   "metadata": {},
   "outputs": [],
   "source": [
    "thefts['month'] = thefts['date'].map(lambda x: x.month)\n",
    "thefts['hour'] = thefts['date'].map(lambda x: x.hour)\n",
    "thefts['day'] = thefts['date'].map(lambda x: x.day)\n",
    "thefts['dayofweek'] = thefts['date'].map(lambda x: x.dayofweek)\n",
    "thefts['weekofyear'] = thefts['date'].map(lambda x: x.weekofyear)\n",
    "thefts['quarter'] = thefts['date'].map(lambda x: x.quarter)"
   ]
  },
  {
   "cell_type": "code",
   "execution_count": 40,
   "metadata": {},
   "outputs": [
    {
     "data": {
      "text/plain": [
       "49"
      ]
     },
     "execution_count": 40,
     "metadata": {},
     "output_type": "execute_result"
    }
   ],
   "source": [
    "thefts['date'][1].week"
   ]
  },
  {
   "cell_type": "code",
   "execution_count": null,
   "metadata": {},
   "outputs": [],
   "source": [
    "L = ['year', 'month', 'day', 'dayofweek', 'dayofyear', 'weekofyear', 'quarter']"
   ]
  },
  {
   "cell_type": "code",
   "execution_count": null,
   "metadata": {},
   "outputs": [],
   "source": []
  },
  {
   "cell_type": "code",
   "execution_count": null,
   "metadata": {},
   "outputs": [],
   "source": []
  },
  {
   "cell_type": "code",
   "execution_count": 42,
   "metadata": {},
   "outputs": [
    {
     "data": {
      "text/html": [
       "<div>\n",
       "<style scoped>\n",
       "    .dataframe tbody tr th:only-of-type {\n",
       "        vertical-align: middle;\n",
       "    }\n",
       "\n",
       "    .dataframe tbody tr th {\n",
       "        vertical-align: top;\n",
       "    }\n",
       "\n",
       "    .dataframe thead th {\n",
       "        text-align: right;\n",
       "    }\n",
       "</style>\n",
       "<table border=\"1\" class=\"dataframe\">\n",
       "  <thead>\n",
       "    <tr style=\"text-align: right;\">\n",
       "      <th></th>\n",
       "      <th>crime</th>\n",
       "      <th>arrest</th>\n",
       "      <th>date</th>\n",
       "      <th>latitude</th>\n",
       "      <th>longitude</th>\n",
       "      <th>domestic</th>\n",
       "      <th>district</th>\n",
       "      <th>FBI_code</th>\n",
       "      <th>year</th>\n",
       "      <th>month</th>\n",
       "      <th>hour</th>\n",
       "      <th>day</th>\n",
       "      <th>dayofweek</th>\n",
       "      <th>weekofyear</th>\n",
       "      <th>quarter</th>\n",
       "    </tr>\n",
       "  </thead>\n",
       "  <tbody>\n",
       "    <tr>\n",
       "      <th>0</th>\n",
       "      <td>RETAIL THEFT</td>\n",
       "      <td>False</td>\n",
       "      <td>2018-12-07 17:30:00</td>\n",
       "      <td>41.930906</td>\n",
       "      <td>-87.644017</td>\n",
       "      <td>False</td>\n",
       "      <td>19.0</td>\n",
       "      <td>6</td>\n",
       "      <td>2018</td>\n",
       "      <td>12</td>\n",
       "      <td>17</td>\n",
       "      <td>7</td>\n",
       "      <td>4</td>\n",
       "      <td>49</td>\n",
       "      <td>4</td>\n",
       "    </tr>\n",
       "    <tr>\n",
       "      <th>1</th>\n",
       "      <td>OVER $500</td>\n",
       "      <td>False</td>\n",
       "      <td>2018-12-07 12:00:00</td>\n",
       "      <td>41.872742</td>\n",
       "      <td>-87.709326</td>\n",
       "      <td>False</td>\n",
       "      <td>11.0</td>\n",
       "      <td>6</td>\n",
       "      <td>2018</td>\n",
       "      <td>12</td>\n",
       "      <td>12</td>\n",
       "      <td>7</td>\n",
       "      <td>4</td>\n",
       "      <td>49</td>\n",
       "      <td>4</td>\n",
       "    </tr>\n",
       "    <tr>\n",
       "      <th>2</th>\n",
       "      <td>OVER $500</td>\n",
       "      <td>False</td>\n",
       "      <td>2018-12-07 12:00:00</td>\n",
       "      <td>41.803672</td>\n",
       "      <td>-87.703846</td>\n",
       "      <td>False</td>\n",
       "      <td>8.0</td>\n",
       "      <td>6</td>\n",
       "      <td>2018</td>\n",
       "      <td>12</td>\n",
       "      <td>12</td>\n",
       "      <td>7</td>\n",
       "      <td>4</td>\n",
       "      <td>49</td>\n",
       "      <td>4</td>\n",
       "    </tr>\n",
       "    <tr>\n",
       "      <th>3</th>\n",
       "      <td>OVER $500</td>\n",
       "      <td>False</td>\n",
       "      <td>2018-12-07 20:00:00</td>\n",
       "      <td>41.882389</td>\n",
       "      <td>-87.624375</td>\n",
       "      <td>False</td>\n",
       "      <td>1.0</td>\n",
       "      <td>6</td>\n",
       "      <td>2018</td>\n",
       "      <td>12</td>\n",
       "      <td>20</td>\n",
       "      <td>7</td>\n",
       "      <td>4</td>\n",
       "      <td>49</td>\n",
       "      <td>4</td>\n",
       "    </tr>\n",
       "    <tr>\n",
       "      <th>4</th>\n",
       "      <td>OVER $500</td>\n",
       "      <td>False</td>\n",
       "      <td>2018-12-07 20:30:00</td>\n",
       "      <td>41.838217</td>\n",
       "      <td>-87.633226</td>\n",
       "      <td>False</td>\n",
       "      <td>9.0</td>\n",
       "      <td>6</td>\n",
       "      <td>2018</td>\n",
       "      <td>12</td>\n",
       "      <td>20</td>\n",
       "      <td>7</td>\n",
       "      <td>4</td>\n",
       "      <td>49</td>\n",
       "      <td>4</td>\n",
       "    </tr>\n",
       "  </tbody>\n",
       "</table>\n",
       "</div>"
      ],
      "text/plain": [
       "          crime  arrest                date   latitude  longitude  domestic  \\\n",
       "0  RETAIL THEFT   False 2018-12-07 17:30:00  41.930906 -87.644017     False   \n",
       "1     OVER $500   False 2018-12-07 12:00:00  41.872742 -87.709326     False   \n",
       "2     OVER $500   False 2018-12-07 12:00:00  41.803672 -87.703846     False   \n",
       "3     OVER $500   False 2018-12-07 20:00:00  41.882389 -87.624375     False   \n",
       "4     OVER $500   False 2018-12-07 20:30:00  41.838217 -87.633226     False   \n",
       "\n",
       "   district  FBI_code  year  month  hour  day  dayofweek  weekofyear  quarter  \n",
       "0      19.0         6  2018     12    17    7          4          49        4  \n",
       "1      11.0         6  2018     12    12    7          4          49        4  \n",
       "2       8.0         6  2018     12    12    7          4          49        4  \n",
       "3       1.0         6  2018     12    20    7          4          49        4  \n",
       "4       9.0         6  2018     12    20    7          4          49        4  "
      ]
     },
     "execution_count": 42,
     "metadata": {},
     "output_type": "execute_result"
    }
   ],
   "source": [
    "thefts.head()"
   ]
  },
  {
   "cell_type": "code",
   "execution_count": null,
   "metadata": {},
   "outputs": [],
   "source": []
  }
 ],
 "metadata": {
  "kernelspec": {
   "display_name": "Python 3",
   "language": "python",
   "name": "python3"
  },
  "language_info": {
   "codemirror_mode": {
    "name": "ipython",
    "version": 3
   },
   "file_extension": ".py",
   "mimetype": "text/x-python",
   "name": "python",
   "nbconvert_exporter": "python",
   "pygments_lexer": "ipython3",
   "version": "3.6.4"
  }
 },
 "nbformat": 4,
 "nbformat_minor": 2
}
